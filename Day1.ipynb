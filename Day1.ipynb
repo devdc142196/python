{
  "nbformat": 4,
  "nbformat_minor": 0,
  "metadata": {
    "colab": {
      "provenance": [],
      "include_colab_link": true
    },
    "kernelspec": {
      "name": "python3",
      "display_name": "Python 3"
    },
    "language_info": {
      "name": "python"
    }
  },
  "cells": [
    {
      "cell_type": "markdown",
      "metadata": {
        "id": "view-in-github",
        "colab_type": "text"
      },
      "source": [
        "<a href=\"https://colab.research.google.com/github/devdc142196/python/blob/main/Day1.ipynb\" target=\"_parent\"><img src=\"https://colab.research.google.com/assets/colab-badge.svg\" alt=\"Open In Colab\"/></a>"
      ]
    },
    {
      "cell_type": "code",
      "execution_count": null,
      "metadata": {
        "colab": {
          "base_uri": "https://localhost:8080/"
        },
        "id": "HpmbKqI7jltH",
        "outputId": "0ec1bf68-5f68-4ec7-f746-ea081ec8cab5"
      },
      "outputs": [
        {
          "output_type": "stream",
          "name": "stdout",
          "text": [
            "hello world\n"
          ]
        }
      ],
      "source": [
        "print(\"hello world\")"
      ]
    },
    {
      "cell_type": "code",
      "source": [
        "from pyspark.sql import SparkSession\n",
        "from pyspark.sql.functions import *\n",
        "# Create a Spark session\n",
        "spark =SparkSession.builder.appName(\"dev\").getOrCreate()\n",
        "\n",
        "data = [\n",
        "(1,10),(2,20),(3,30),(4,40),(5,50)\n",
        "]\n",
        "columns=[\"id\",\"value\"]\n",
        "# Create DataFrame\n",
        "df = spark.createDataFrame(data,columns)\n",
        "# Show the DataFrame\n",
        "df.show()\n",
        "x=df.count()\n",
        "\n",
        "print(\"number of rows in above  dataframe is:\",x)\n",
        "\n",
        "#sum\n",
        "\n",
        "sm=df.select(sum(\"value\").alias(\"sum\"))\n",
        "sm.show()\n",
        "avg=df.select(avg(\"value\").alias(\"avg\")).show()\n",
        "#max\n",
        "mx=df.select(max(\"value\").alias(\"max\")).show()\n",
        "#min\n",
        "mn=df.select(min(\"value\").alias(\"min\")).show()\n",
        "#cnt\n",
        "mn=df.select(count(\"value\").alias(\"count\")).show()\n",
        "\n"
      ],
      "metadata": {
        "id": "34ZbDQBAxLWX",
        "colab": {
          "base_uri": "https://localhost:8080/"
        },
        "outputId": "c0aafa08-14ed-4894-aa1a-9156fea3902c"
      },
      "execution_count": 2,
      "outputs": [
        {
          "output_type": "stream",
          "name": "stdout",
          "text": [
            "+---+-----+\n",
            "| id|value|\n",
            "+---+-----+\n",
            "|  1|   10|\n",
            "|  2|   20|\n",
            "|  3|   30|\n",
            "|  4|   40|\n",
            "|  5|   50|\n",
            "+---+-----+\n",
            "\n",
            "number of rows in above  dataframe is: 5\n",
            "+---+\n",
            "|sum|\n",
            "+---+\n",
            "|150|\n",
            "+---+\n",
            "\n",
            "+----+\n",
            "| avg|\n",
            "+----+\n",
            "|30.0|\n",
            "+----+\n",
            "\n",
            "+---+\n",
            "|max|\n",
            "+---+\n",
            "| 50|\n",
            "+---+\n",
            "\n",
            "+---+\n",
            "|min|\n",
            "+---+\n",
            "| 10|\n",
            "+---+\n",
            "\n",
            "+-----+\n",
            "|count|\n",
            "+-----+\n",
            "|    5|\n",
            "+-----+\n",
            "\n"
          ]
        }
      ]
    },
    {
      "cell_type": "code",
      "source": [
        "''''a=int(input(\"enter first numner:\"))\n",
        "b=int(input(\"enter second numner:\"))\n",
        "sum = a+b\n",
        "print(\"sum of entered numbers is:\",sum)'''\n",
        "\n",
        "for i in range(1,11):\n",
        "    print(i)\n",
        "\n",
        "for x in (\"hello\"):\n",
        "  print(x)\n",
        "\n",
        "for x in (\"hello\",\"hi im dev\"):\n",
        "  print(x)\n",
        "\n",
        "z=[1,'dev','c']\n",
        "for c in z:\n",
        "  print(c)"
      ],
      "metadata": {
        "colab": {
          "base_uri": "https://localhost:8080/"
        },
        "id": "XbmLMt96oiOj",
        "outputId": "667bba72-01c9-48f0-f377-4baf00f94a18"
      },
      "execution_count": 5,
      "outputs": [
        {
          "output_type": "stream",
          "name": "stdout",
          "text": [
            "1\n",
            "2\n",
            "3\n",
            "4\n",
            "5\n",
            "6\n",
            "7\n",
            "8\n",
            "9\n",
            "10\n",
            "h\n",
            "e\n",
            "l\n",
            "l\n",
            "o\n",
            "hello\n",
            "hi im dev\n",
            "1\n",
            "dev\n",
            "c\n"
          ]
        }
      ]
    },
    {
      "cell_type": "code",
      "source": [
        "for i in range(3,20,3):\n",
        "  print(i)\n",
        "\n",
        "list(range(10))\n",
        "list(range(1,10))\n",
        "list(range(-6,10))"
      ],
      "metadata": {
        "id": "aMhzVdxEzVQu",
        "outputId": "4c02cfb9-172b-434d-91fb-0431222b0ddb",
        "colab": {
          "base_uri": "https://localhost:8080/"
        }
      },
      "execution_count": 11,
      "outputs": [
        {
          "output_type": "stream",
          "name": "stdout",
          "text": [
            "3\n",
            "6\n",
            "9\n",
            "12\n",
            "15\n",
            "18\n"
          ]
        },
        {
          "output_type": "execute_result",
          "data": {
            "text/plain": [
              "[-6, -5, -4, -3, -2, -1, 0, 1, 2, 3, 4, 5, 6, 7, 8, 9]"
            ]
          },
          "metadata": {},
          "execution_count": 11
        }
      ]
    },
    {
      "cell_type": "code",
      "source": [
        "numbers = [1, 2, 3, 4, 5]\n",
        "total = 0\n",
        "\n",
        "for i in numbers:\n",
        "  total = total + i\n",
        "print(total)\n",
        "\n",
        "for i in range(2,5):\n",
        "  for j in range(i):\n",
        "    print(\"*\",end=\"\")\n",
        "  print()"
      ],
      "metadata": {
        "id": "UESyUrsUhiAB",
        "outputId": "094e6f25-3358-4d2f-b8a1-960ccfb5891a",
        "colab": {
          "base_uri": "https://localhost:8080/"
        }
      },
      "execution_count": 4,
      "outputs": [
        {
          "output_type": "stream",
          "name": "stdout",
          "text": [
            "15\n",
            "**\n",
            "***\n",
            "****\n"
          ]
        }
      ]
    }
  ]
}