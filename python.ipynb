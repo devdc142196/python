{
  "nbformat": 4,
  "nbformat_minor": 0,
  "metadata": {
    "colab": {
      "provenance": []
    },
    "kernelspec": {
      "name": "python3",
      "display_name": "Python 3"
    },
    "language_info": {
      "name": "python"
    }
  },
  "cells": [
    {
      "cell_type": "code",
      "execution_count": null,
      "metadata": {
        "colab": {
          "base_uri": "https://localhost:8080/"
        },
        "id": "HpmbKqI7jltH",
        "outputId": "0ec1bf68-5f68-4ec7-f746-ea081ec8cab5"
      },
      "outputs": [
        {
          "output_type": "stream",
          "name": "stdout",
          "text": [
            "hello world\n"
          ]
        }
      ],
      "source": [
        "print(\"hello world\")"
      ]
    },
    {
      "cell_type": "code",
      "source": [
        "from pyspark.sql import SparkSession\n",
        "from pyspark.sql.functions import *\n",
        "from pyspark.sql.types import *\n",
        "spark=SparkSession.builder.appName(\"pyspark\").getOrCreate()\n",
        "\n",
        "columns=[\"customer_id\", \"cust_name\", \"city\", \"grade\",  \"salesman_id\"]\n",
        "\n",
        "data=[\n",
        "(70001   ,    150.5    ,   \"2012-10-05\" , 3005    ,     5002),\n",
        "(70009   ,    270.65   ,   \"2012-09-10\" , 3001    ,     5005),\n",
        "(70002   ,    65.26    ,   \"2012-10-05\" , 3002    ,     5001),\n",
        "(70004   ,    110.5    ,   \"2012-08-17\" , 3009    ,     5003),\n",
        "(70007   ,    948.5    ,   \"2012-09-10\" , 3005    ,     5002),\n",
        "(70005   ,    2400.6   ,   \"2012-07-27\" , 3007    ,     5001),\n",
        "(70008   ,    5760.0     ,   \"2012-09-10\" , 3002    ,     5001),\n",
        "(70010   ,    1983.43  ,   \"2012-10-10\" , 3004    ,     5006),\n",
        "(70003   ,    2480.4   ,   \"2012-10-10\" , 3009    ,     5003),\n",
        "(70012   ,    250.45   ,   \"2012-06-27\" , 3008    ,     5002),\n",
        "(70011   ,    75.29    ,   \"2012-08-17\" , 3003    ,     5007),\n",
        "(70013   ,    3045.6   ,   \"2012-04-25\" , 3002    ,     5001)\n",
        "]\n",
        "\n",
        "orders=spark.createDataFrame(data,columns)\n",
        "orders.show()\n",
        "\n",
        "columns1=[\"customer_id\"  ,\"cust_name\" ,\"city\" ,\"grade \",\"salesman_id\"]\n",
        "\n",
        "data1=[\n",
        "(3002   ,      \"Nick Rimando\" , \"New York  \" , 100     ,    5001),\n",
        "(3005   ,      \"Graham Zusi \" , \"California\" , 200     ,    5002),\n",
        "(3001   ,      \"Brad Guzan  \" , \"London    \" , 100     ,    5005),\n",
        "(3004   ,      \"Fabian Johns\" , \"Paris     \" , 300     ,    5006),\n",
        "(3007   ,      \"Brad Davis  \" , \"New York  \" , 200     ,    5001),\n",
        "(3009   ,      \"Geoff Camero\" , \"Berlin    \" , 100     ,    5003),\n",
        "(3008   ,      \"Julian Green\" , \"London    \" , 300     ,    5002),\n",
        "(3003   ,      \"Jozy Altidor\" , \"Moncow    \" , 200     ,    5007)\n",
        "]\n",
        "\n",
        "customers=spark.createDataFrame(data,columns)\n",
        "customers.show()\n",
        "\n",
        "# Define the schema\n",
        "schema = StructType([\n",
        "    StructField(\"salesman_id\", StringType(), True),\n",
        "    StructField(\"name\", StringType(), True),\n",
        "    StructField(\"city\", StringType(), True),\n",
        "    StructField(\"commission\", DoubleType(), True)\n",
        "])\n",
        "\n",
        "# Data\n",
        "data2 = [\n",
        "    (\"5001\", \"James Hoog\", \"New York\", 0.15),\n",
        "    (\"5002\", \"Nail Knite\", \"Paris\", 0.13),\n",
        "    (\"5005\", \"Pit Alex\", \"London\", 0.11),\n",
        "    (\"5006\", \"Mc Lyon\", \"Paris\", 0.14),\n",
        "    (\"5003\", \"Lauson Hen\", \"San Jose\", 0.12),\n",
        "    (\"5007\", \"Paul Adam\", \"Rome\", 0.13)\n",
        "]\n",
        "\n",
        "# Create the DataFrame\n",
        "salesman = spark.createDataFrame(data2, schema)\n",
        "\n",
        "# Display the DataFrame\n",
        "salesman.show()\n",
        "\n",
        "# Find the maximum commission using a subquery\n",
        "max_commission = salesman.select(max(\"commission\").alias(\"max_commission\")).collect()[0][0]\n",
        "\n",
        "\n",
        "dfi=orders.join(salesman,orders.salesman_id==salesman.salesman_id,\"inner\")\\\n",
        ".select(orders[\"customer_id\"], \"cust_name\", orders[\"city\"], salesman[\"salesman_id\"])\\\n",
        ".filter(col(\"commission\")==max_commission)\n",
        "\n",
        "dfi.show()"
      ],
      "metadata": {
        "id": "34ZbDQBAxLWX",
        "outputId": "50dc71f5-8f39-49e5-89ec-aadb08d315f7",
        "colab": {
          "base_uri": "https://localhost:8080/"
        }
      },
      "execution_count": 25,
      "outputs": [
        {
          "output_type": "stream",
          "name": "stdout",
          "text": [
            "+-----------+---------+----------+-----+-----------+\n",
            "|customer_id|cust_name|      city|grade|salesman_id|\n",
            "+-----------+---------+----------+-----+-----------+\n",
            "|      70001|    150.5|2012-10-05| 3005|       5002|\n",
            "|      70009|   270.65|2012-09-10| 3001|       5005|\n",
            "|      70002|    65.26|2012-10-05| 3002|       5001|\n",
            "|      70004|    110.5|2012-08-17| 3009|       5003|\n",
            "|      70007|    948.5|2012-09-10| 3005|       5002|\n",
            "|      70005|   2400.6|2012-07-27| 3007|       5001|\n",
            "|      70008|   5760.0|2012-09-10| 3002|       5001|\n",
            "|      70010|  1983.43|2012-10-10| 3004|       5006|\n",
            "|      70003|   2480.4|2012-10-10| 3009|       5003|\n",
            "|      70012|   250.45|2012-06-27| 3008|       5002|\n",
            "|      70011|    75.29|2012-08-17| 3003|       5007|\n",
            "|      70013|   3045.6|2012-04-25| 3002|       5001|\n",
            "+-----------+---------+----------+-----+-----------+\n",
            "\n",
            "+-----------+---------+----------+-----+-----------+\n",
            "|customer_id|cust_name|      city|grade|salesman_id|\n",
            "+-----------+---------+----------+-----+-----------+\n",
            "|      70001|    150.5|2012-10-05| 3005|       5002|\n",
            "|      70009|   270.65|2012-09-10| 3001|       5005|\n",
            "|      70002|    65.26|2012-10-05| 3002|       5001|\n",
            "|      70004|    110.5|2012-08-17| 3009|       5003|\n",
            "|      70007|    948.5|2012-09-10| 3005|       5002|\n",
            "|      70005|   2400.6|2012-07-27| 3007|       5001|\n",
            "|      70008|   5760.0|2012-09-10| 3002|       5001|\n",
            "|      70010|  1983.43|2012-10-10| 3004|       5006|\n",
            "|      70003|   2480.4|2012-10-10| 3009|       5003|\n",
            "|      70012|   250.45|2012-06-27| 3008|       5002|\n",
            "|      70011|    75.29|2012-08-17| 3003|       5007|\n",
            "|      70013|   3045.6|2012-04-25| 3002|       5001|\n",
            "+-----------+---------+----------+-----+-----------+\n",
            "\n",
            "+-----------+----------+--------+----------+\n",
            "|salesman_id|      name|    city|commission|\n",
            "+-----------+----------+--------+----------+\n",
            "|       5001|James Hoog|New York|      0.15|\n",
            "|       5002|Nail Knite|   Paris|      0.13|\n",
            "|       5005|  Pit Alex|  London|      0.11|\n",
            "|       5006|   Mc Lyon|   Paris|      0.14|\n",
            "|       5003|Lauson Hen|San Jose|      0.12|\n",
            "|       5007| Paul Adam|    Rome|      0.13|\n",
            "+-----------+----------+--------+----------+\n",
            "\n",
            "+-----------+---------+----------+-----------+\n",
            "|customer_id|cust_name|      city|salesman_id|\n",
            "+-----------+---------+----------+-----------+\n",
            "|      70002|    65.26|2012-10-05|       5001|\n",
            "|      70005|   2400.6|2012-07-27|       5001|\n",
            "|      70008|   5760.0|2012-09-10|       5001|\n",
            "|      70013|   3045.6|2012-04-25|       5001|\n",
            "+-----------+---------+----------+-----------+\n",
            "\n"
          ]
        }
      ]
    }
  ]
}